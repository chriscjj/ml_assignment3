{
 "cells": [
  {
   "cell_type": "markdown",
   "id": "0f14c6de-26b6-45e1-b2d3-1482c767b093",
   "metadata": {},
   "source": [
    "##  ML Assignment 3 - Regression\n",
    "#  Objective\n",
    "The goal of this assignment is to implement and compare multiple regression models using the California Housing dataset. The dataset contains information on different housing features in California and their corresponding median house prices.\n",
    "\n"
   ]
  },
  {
   "cell_type": "markdown",
   "id": "58872e4a-ada6-46c5-82bd-97f68c1d3f7d",
   "metadata": {},
   "source": [
    "# Load and Preprocess the Data\n",
    "- Steps Involved:\n",
    "    - Load the dataset using fetch_california_housing() from sklearn.datasets.\n",
    "    - Convert it into a Pandas DataFrame for easy manipulation.\n",
    "    - Check for missing values and handle them appropriately.\n",
    "    - Feature scaling using StandardScaler to standardize the data.\n",
    "    - Split the dataset into training (80%) and testing (20%) sets."
   ]
  },
  {
   "cell_type": "code",
   "execution_count": 8,
   "id": "5e69d76c-b25c-40ac-9d4b-3bf210bb0841",
   "metadata": {},
   "outputs": [],
   "source": [
    "import pandas as pd\n",
    "import numpy as np\n",
    "import matplotlib.pyplot as plt\n",
    "import seaborn as sns\n",
    "from sklearn.datasets import fetch_california_housing\n",
    "from sklearn.model_selection import train_test_split\n",
    "from sklearn.preprocessing import StandardScaler\n",
    "from sklearn.metrics import mean_squared_error, mean_absolute_error, r2_score\n",
    "from sklearn.linear_model import LinearRegression\n",
    "from sklearn.tree import DecisionTreeRegressor\n",
    "from sklearn.ensemble import RandomForestRegressor, GradientBoostingRegressor\n",
    "from sklearn.svm import SVR"
   ]
  },
  {
   "cell_type": "markdown",
   "id": "06679dba-b0c2-4dd2-97e9-4725d42c6e58",
   "metadata": {},
   "source": [
    "# Load the California Housing dataset"
   ]
  },
  {
   "cell_type": "code",
   "execution_count": 2,
   "id": "f97b94dd-2f02-46dd-a8d5-62a55f485f7d",
   "metadata": {},
   "outputs": [],
   "source": [
    "california = fetch_california_housing()\n",
    "df = pd.DataFrame(california.data, columns=california.feature_names)\n",
    "df['Target'] = california.target"
   ]
  },
  {
   "cell_type": "markdown",
   "id": "5ef98487-b6f4-4c62-a59f-ba92c4ae248c",
   "metadata": {},
   "source": [
    "# Display dataset information"
   ]
  },
  {
   "cell_type": "code",
   "execution_count": 3,
   "id": "217c6513-915f-4cf4-87a2-e6d33714be1e",
   "metadata": {},
   "outputs": [
    {
     "name": "stdout",
     "output_type": "stream",
     "text": [
      "<class 'pandas.core.frame.DataFrame'>\n",
      "RangeIndex: 20640 entries, 0 to 20639\n",
      "Data columns (total 9 columns):\n",
      " #   Column      Non-Null Count  Dtype  \n",
      "---  ------      --------------  -----  \n",
      " 0   MedInc      20640 non-null  float64\n",
      " 1   HouseAge    20640 non-null  float64\n",
      " 2   AveRooms    20640 non-null  float64\n",
      " 3   AveBedrms   20640 non-null  float64\n",
      " 4   Population  20640 non-null  float64\n",
      " 5   AveOccup    20640 non-null  float64\n",
      " 6   Latitude    20640 non-null  float64\n",
      " 7   Longitude   20640 non-null  float64\n",
      " 8   Target      20640 non-null  float64\n",
      "dtypes: float64(9)\n",
      "memory usage: 1.4 MB\n",
      "None\n",
      "             MedInc      HouseAge      AveRooms     AveBedrms    Population  \\\n",
      "count  20640.000000  20640.000000  20640.000000  20640.000000  20640.000000   \n",
      "mean       3.870671     28.639486      5.429000      1.096675   1425.476744   \n",
      "std        1.899822     12.585558      2.474173      0.473911   1132.462122   \n",
      "min        0.499900      1.000000      0.846154      0.333333      3.000000   \n",
      "25%        2.563400     18.000000      4.440716      1.006079    787.000000   \n",
      "50%        3.534800     29.000000      5.229129      1.048780   1166.000000   \n",
      "75%        4.743250     37.000000      6.052381      1.099526   1725.000000   \n",
      "max       15.000100     52.000000    141.909091     34.066667  35682.000000   \n",
      "\n",
      "           AveOccup      Latitude     Longitude        Target  \n",
      "count  20640.000000  20640.000000  20640.000000  20640.000000  \n",
      "mean       3.070655     35.631861   -119.569704      2.068558  \n",
      "std       10.386050      2.135952      2.003532      1.153956  \n",
      "min        0.692308     32.540000   -124.350000      0.149990  \n",
      "25%        2.429741     33.930000   -121.800000      1.196000  \n",
      "50%        2.818116     34.260000   -118.490000      1.797000  \n",
      "75%        3.282261     37.710000   -118.010000      2.647250  \n",
      "max     1243.333333     41.950000   -114.310000      5.000010  \n"
     ]
    }
   ],
   "source": [
    "print(df.info())  \n",
    "print(df.describe())"
   ]
  },
  {
   "cell_type": "code",
   "execution_count": 6,
   "id": "a16d7c01-7e61-4211-af9b-c342344d853e",
   "metadata": {},
   "outputs": [
    {
     "data": {
      "text/html": [
       "<div>\n",
       "<style scoped>\n",
       "    .dataframe tbody tr th:only-of-type {\n",
       "        vertical-align: middle;\n",
       "    }\n",
       "\n",
       "    .dataframe tbody tr th {\n",
       "        vertical-align: top;\n",
       "    }\n",
       "\n",
       "    .dataframe thead th {\n",
       "        text-align: right;\n",
       "    }\n",
       "</style>\n",
       "<table border=\"1\" class=\"dataframe\">\n",
       "  <thead>\n",
       "    <tr style=\"text-align: right;\">\n",
       "      <th></th>\n",
       "      <th>MedInc</th>\n",
       "      <th>HouseAge</th>\n",
       "      <th>AveRooms</th>\n",
       "      <th>AveBedrms</th>\n",
       "      <th>Population</th>\n",
       "      <th>AveOccup</th>\n",
       "      <th>Latitude</th>\n",
       "      <th>Longitude</th>\n",
       "      <th>Target</th>\n",
       "    </tr>\n",
       "  </thead>\n",
       "  <tbody>\n",
       "    <tr>\n",
       "      <th>0</th>\n",
       "      <td>8.3252</td>\n",
       "      <td>41.0</td>\n",
       "      <td>6.984127</td>\n",
       "      <td>1.023810</td>\n",
       "      <td>322.0</td>\n",
       "      <td>2.555556</td>\n",
       "      <td>37.88</td>\n",
       "      <td>-122.23</td>\n",
       "      <td>4.526</td>\n",
       "    </tr>\n",
       "    <tr>\n",
       "      <th>1</th>\n",
       "      <td>8.3014</td>\n",
       "      <td>21.0</td>\n",
       "      <td>6.238137</td>\n",
       "      <td>0.971880</td>\n",
       "      <td>2401.0</td>\n",
       "      <td>2.109842</td>\n",
       "      <td>37.86</td>\n",
       "      <td>-122.22</td>\n",
       "      <td>3.585</td>\n",
       "    </tr>\n",
       "    <tr>\n",
       "      <th>2</th>\n",
       "      <td>7.2574</td>\n",
       "      <td>52.0</td>\n",
       "      <td>8.288136</td>\n",
       "      <td>1.073446</td>\n",
       "      <td>496.0</td>\n",
       "      <td>2.802260</td>\n",
       "      <td>37.85</td>\n",
       "      <td>-122.24</td>\n",
       "      <td>3.521</td>\n",
       "    </tr>\n",
       "    <tr>\n",
       "      <th>3</th>\n",
       "      <td>5.6431</td>\n",
       "      <td>52.0</td>\n",
       "      <td>5.817352</td>\n",
       "      <td>1.073059</td>\n",
       "      <td>558.0</td>\n",
       "      <td>2.547945</td>\n",
       "      <td>37.85</td>\n",
       "      <td>-122.25</td>\n",
       "      <td>3.413</td>\n",
       "    </tr>\n",
       "    <tr>\n",
       "      <th>4</th>\n",
       "      <td>3.8462</td>\n",
       "      <td>52.0</td>\n",
       "      <td>6.281853</td>\n",
       "      <td>1.081081</td>\n",
       "      <td>565.0</td>\n",
       "      <td>2.181467</td>\n",
       "      <td>37.85</td>\n",
       "      <td>-122.25</td>\n",
       "      <td>3.422</td>\n",
       "    </tr>\n",
       "  </tbody>\n",
       "</table>\n",
       "</div>"
      ],
      "text/plain": [
       "   MedInc  HouseAge  AveRooms  AveBedrms  Population  AveOccup  Latitude  \\\n",
       "0  8.3252      41.0  6.984127   1.023810       322.0  2.555556     37.88   \n",
       "1  8.3014      21.0  6.238137   0.971880      2401.0  2.109842     37.86   \n",
       "2  7.2574      52.0  8.288136   1.073446       496.0  2.802260     37.85   \n",
       "3  5.6431      52.0  5.817352   1.073059       558.0  2.547945     37.85   \n",
       "4  3.8462      52.0  6.281853   1.081081       565.0  2.181467     37.85   \n",
       "\n",
       "   Longitude  Target  \n",
       "0    -122.23   4.526  \n",
       "1    -122.22   3.585  \n",
       "2    -122.24   3.521  \n",
       "3    -122.25   3.413  \n",
       "4    -122.25   3.422  "
      ]
     },
     "execution_count": 6,
     "metadata": {},
     "output_type": "execute_result"
    }
   ],
   "source": [
    "df.head()"
   ]
  },
  {
   "cell_type": "code",
   "execution_count": 4,
   "id": "c3e59da5-8360-42f6-bf62-4c02fc6f65c5",
   "metadata": {},
   "outputs": [
    {
     "name": "stdout",
     "output_type": "stream",
     "text": [
      "Missing values:\n",
      " MedInc        0\n",
      "HouseAge      0\n",
      "AveRooms      0\n",
      "AveBedrms     0\n",
      "Population    0\n",
      "AveOccup      0\n",
      "Latitude      0\n",
      "Longitude     0\n",
      "Target        0\n",
      "dtype: int64\n"
     ]
    }
   ],
   "source": [
    "print(\"Missing values:\\n\", df.isnull().sum())"
   ]
  },
  {
   "cell_type": "markdown",
   "id": "9f02f3f4-3bc3-49be-a786-1c5b5b4bcfd7",
   "metadata": {},
   "source": [
    "# Feature Scaling using StandardScaler"
   ]
  },
  {
   "cell_type": "code",
   "execution_count": 5,
   "id": "de65a13f-448c-48c2-bf52-7fe081b89f3e",
   "metadata": {},
   "outputs": [],
   "source": [
    "scaler = StandardScaler()\n",
    "scaled_features = scaler.fit_transform(df.drop(columns=['Target']))\n",
    "df_scaled = pd.DataFrame(scaled_features, columns=df.columns[:-1])\n",
    "df_scaled['Target'] = df['Target']"
   ]
  },
  {
   "cell_type": "markdown",
   "id": "732036a7-ef94-49a9-9f74-3da46511e93c",
   "metadata": {},
   "source": [
    "# Split the dataset into train and test sets"
   ]
  },
  {
   "cell_type": "code",
   "execution_count": 7,
   "id": "0d8e8e83-b56a-4f29-9cd5-2792654fe513",
   "metadata": {},
   "outputs": [],
   "source": [
    "X = df_scaled.drop(columns=['Target'])\n",
    "y = df_scaled['Target']\n",
    "X_train, X_test, y_train, y_test = train_test_split(X, y, test_size=0.2, random_state=42)"
   ]
  },
  {
   "cell_type": "markdown",
   "id": "e9648e88-1a49-4af8-9958-ce010e321586",
   "metadata": {},
   "source": [
    "# Initialize models"
   ]
  },
  {
   "cell_type": "markdown",
   "id": "86cf5799-bfda-406c-a630-0a8611bf453d",
   "metadata": {},
   "source": [
    "Implement Regression Algorithms\n",
    "- Steps Involved:\n",
    "- Train and evaluate five regression models:\n",
    "\n",
    "    - Linear Regression → Basic model assuming a linear relationship.\n",
    "    - Decision Tree Regressor → Captures non-linear relationships using a tree-based approach.\n",
    "    - Random Forest Regressor → Uses multiple decision trees for better accuracy.\n",
    "    - Gradient Boosting Regressor → Boosting technique for reducing errors.\n",
    "    - Support Vector Regressor (SVR) → Uses support vectors for better predictions.\n",
    "- Calculate model performance metrics:\n",
    "\n",
    "    - Mean Squared Error (MSE) → Measures average squared difference between actual and predicted values.\n",
    "    - Mean Absolute Error (MAE) → Measures average absolute difference between actual and predicted values.\n",
    "    - R² Score → Indicates how well the model fits the data (higher is better)."
   ]
  },
  {
   "cell_type": "code",
   "execution_count": 10,
   "id": "c7cf998d-4bed-426f-984b-7105f1e1b472",
   "metadata": {},
   "outputs": [],
   "source": [
    "models = {\n",
    "    \"Linear Regression\": LinearRegression(),\n",
    "    \"Decision Tree\": DecisionTreeRegressor(),\n",
    "    \"Random Forest\": RandomForestRegressor(n_estimators=100, random_state=42),\n",
    "    \"Gradient Boosting\": GradientBoostingRegressor(n_estimators=100, random_state=42),\n",
    "    \"Support Vector Regressor\": SVR()\n",
    "}"
   ]
  },
  {
   "cell_type": "markdown",
   "id": "3570bea0-adf9-4194-98c1-af743c63991e",
   "metadata": {},
   "source": [
    "# Train and evaluate models"
   ]
  },
  {
   "cell_type": "code",
   "execution_count": 11,
   "id": "7c19787b-5c78-4e23-a4e5-ddc424cebc86",
   "metadata": {},
   "outputs": [],
   "source": [
    "results = {}\n",
    "for name, model in models.items():\n",
    "    model.fit(X_train, y_train)\n",
    "    y_pred = model.predict(X_test)\n",
    "    \n",
    "    # Evaluate model performance\n",
    "    mse = mean_squared_error(y_test, y_pred)\n",
    "    mae = mean_absolute_error(y_test, y_pred)\n",
    "    r2 = r2_score(y_test, y_pred)\n",
    "    \n",
    "    results[name] = {\"MSE\": mse, \"MAE\": mae, \"R2 Score\": r2}"
   ]
  },
  {
   "cell_type": "markdown",
   "id": "aa466598-404e-4b1a-aa72-c5888294646b",
   "metadata": {},
   "source": [
    "# Convert results to DataFrame for easy visualization"
   ]
  },
  {
   "cell_type": "code",
   "execution_count": 12,
   "id": "5988010c-a767-4974-9747-550afebf5cc3",
   "metadata": {},
   "outputs": [
    {
     "name": "stdout",
     "output_type": "stream",
     "text": [
      "\n",
      "Model Evaluation Results:\n",
      "                                MSE       MAE  R2 Score\n",
      "Linear Regression         0.555892  0.533200  0.575788\n",
      "Decision Tree             0.487853  0.450319  0.627709\n",
      "Random Forest             0.255498  0.327613  0.805024\n",
      "Gradient Boosting         0.293999  0.371650  0.775643\n",
      "Support Vector Regressor  0.355198  0.397763  0.728941\n"
     ]
    }
   ],
   "source": [
    "results_df = pd.DataFrame(results).T\n",
    "print(\"\\nModel Evaluation Results:\\n\", results_df)"
   ]
  },
  {
   "cell_type": "markdown",
   "id": "dad8170b-2b10-4dd0-aded-bccbd00f5613",
   "metadata": {},
   "source": [
    "Compare Model Performance\n",
    "- Steps Involved:\n",
    "    - Compare model results using a bar plot.\n",
    "    - Identify the best and worst models."
   ]
  },
  {
   "cell_type": "code",
   "execution_count": 17,
   "id": "5cd93990-6da0-4cd1-b227-d4f0a8eb7d3f",
   "metadata": {},
   "outputs": [
    {
     "data": {
      "image/png": "[encoded data removed]",
      "text/plain": [
       "<Figure size 1200x500 with 3 Axes>"
      ]
     },
     "metadata": {},
     "output_type": "display_data"
    }
   ],
   "source": [
    "plt.figure(figsize=(12, 5))\n",
    "# Mean Squared Error\n",
    "plt.subplot(1, 3, 1)\n",
    "sns.barplot(x=results_df.index, y=results_df['MSE'])\n",
    "plt.xticks(rotation=30)\n",
    "plt.title(\"Mean Squared Error\")\n",
    "\n",
    "# Mean Absolute Error\n",
    "plt.subplot(1, 3, 2)\n",
    "sns.barplot(x=results_df.index, y=results_df['MAE'])\n",
    "plt.xticks(rotation=30)\n",
    "plt.title(\"Mean Absolute Error\")\n",
    "\n",
    "# R² Score\n",
    "plt.subplot(1, 3, 3)\n",
    "sns.barplot(x=results_df.index, y=results_df['R2 Score'])\n",
    "plt.xticks(rotation=30)\n",
    "plt.title(\"R² Score\")\n",
    "\n",
    "plt.tight_layout()\n",
    "plt.show()"
   ]
  },
  {
   "cell_type": "markdown",
   "id": "bdc38ce0-9728-403c-acce-9a7feb134c67",
   "metadata": {},
   "source": []
  },
  {
   "cell_type": "markdown",
   "id": "3072f0b1-efb3-48a5-a051-c930ec7f8d51",
   "metadata": {},
   "source": [
    "## Conclusion\n",
    "   The model with the lowest MSE and MAE and the highest R² Score is considered the best.\n",
    "   Decision Tree and Random Forest usually perform well on structured data.\n",
    "   Linear Regression might not work well if the dataset has non-linear relationships.\n",
    "   SVR might perform poorly if the dataset is not scaled properly."
   ]
  }
 ],
 "metadata": {
  "kernelspec": {
   "display_name": "Python 3 (ipykernel)",
   "language": "python",
   "name": "python3"
  },
  "language_info": {
   "codemirror_mode": {
    "name": "ipython",
    "version": 3
   },
   "file_extension": ".py",
   "mimetype": "text/x-python",
   "name": "python",
   "nbconvert_exporter": "python",
   "pygments_lexer": "ipython3",
   "version": "3.12.7"
  }
 },
 "nbformat": 4,
 "nbformat_minor": 5
}
